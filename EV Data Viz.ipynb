{
 "cells": [
  {
   "cell_type": "markdown",
   "id": "9551dcbf-2bea-4ed8-8c91-c7633e0570a1",
   "metadata": {},
   "source": [
    "## Electric Vehicle Population Data - 2025 \n",
    "This dataset from the Washington State Open Data Portal contains information about Battery Electric Vehicles (BEVs) and Plug-in Hybrid Electric Vehicles (PHEVs) that are currently registered through the Washington State Department of Licensing (DOL). Each record represents an individual vehicle and reflects the growing population of electric vehicles in Washington. \n",
    "\n",
    "Access & Use Information\n",
    "* Source: https://data.wa.gov/Transportation/Electric-Vehicle-Population-Data/f6w7-q2d2/about_data\n",
    "* Public: This dataset is intended for public access and use.\n",
    "* License: Open Data Commons Open Database License (ODbL) v1.0\n",
    "\n",
    "The goal of this notebook is to explore the Washington State EV dataset using Vega-Altair, a Python library for creating interactive visualizations: https://altair-viz.github.io/"
   ]
  },
  {
   "cell_type": "markdown",
   "id": "5c8aa47f-5553-4d75-8029-24a5841802a4",
   "metadata": {},
   "source": [
    "### 1. Import data and packages"
   ]
  },
  {
   "cell_type": "code",
   "execution_count": null,
   "id": "4fb756ba-e96b-43ec-a41a-7df6b35a88f4",
   "metadata": {},
   "outputs": [],
   "source": [
    "#!pip install --upgrade altair\n",
    "#!pip install altair vega_datasets\n",
    "#!pip install vegafusion"
   ]
  },
  {
   "cell_type": "code",
   "execution_count": null,
   "id": "74c86b08-e54e-4395-bb9c-6c6a5f93244c",
   "metadata": {},
   "outputs": [],
   "source": [
    "import pandas as pd\n",
    "import altair as alt\n",
    "from vega_datasets import data\n",
    "\n",
    "alt.data_transformers.disable_max_rows()\n",
    "alt.data_transformers.enable(\"vegafusion\")"
   ]
  },
  {
   "cell_type": "code",
   "execution_count": null,
   "id": "5482cb01-131a-4a5f-98e2-81dfa33b9cee",
   "metadata": {},
   "outputs": [],
   "source": [
    "df = pd.read_csv(\"Electric_Vehicle_Population_Data_20250825.csv\")"
   ]
  },
  {
   "cell_type": "markdown",
   "id": "6de74ccf-3483-48cf-bdc2-353686b08a80",
   "metadata": {},
   "source": [
    "### 2. Explore the dataset"
   ]
  },
  {
   "cell_type": "code",
   "execution_count": null,
   "id": "41590b60-2746-42bd-b05e-8b71ca1f8e27",
   "metadata": {},
   "outputs": [],
   "source": [
    "print(\"Number of records: \", len(df))"
   ]
  },
  {
   "cell_type": "code",
   "execution_count": null,
   "id": "dd168a5b-8138-4087-8e2b-45fc0cc62cd4",
   "metadata": {},
   "outputs": [],
   "source": [
    "df.head()"
   ]
  },
  {
   "cell_type": "markdown",
   "id": "16b0c89b-9470-41e1-afbf-838b71274cc9",
   "metadata": {},
   "source": [
    "### 3. Define Questions"
   ]
  },
  {
   "cell_type": "markdown",
   "id": "e49bab53-e47c-4451-8b35-6f8e4188dce3",
   "metadata": {},
   "source": [
    "**Question 1: What is the most common EV type?**"
   ]
  },
  {
   "cell_type": "code",
   "execution_count": null,
   "id": "62c39394-2b19-4492-ad5a-c6ed591adc29",
   "metadata": {},
   "outputs": [],
   "source": [
    "# Summarize data so it renders quicker\n",
    "summary = df['Electric Vehicle Type'].value_counts().to_frame(name='Count').reset_index()"
   ]
  },
  {
   "cell_type": "code",
   "execution_count": null,
   "id": "9cba5085-a633-4c19-8eff-461ec636267d",
   "metadata": {},
   "outputs": [],
   "source": [
    "# Color palette to use throughout \n",
    "categorical = 'set2'\n",
    "sequential = 'blues'"
   ]
  },
  {
   "cell_type": "code",
   "execution_count": null,
   "id": "013431ef-ead2-40e4-813f-5c4a3c6b20ef",
   "metadata": {},
   "outputs": [],
   "source": [
    "# Simple bar chart showing number of BEVs and PHEVs in WA\n",
    "alt.Chart(summary).mark_bar().encode(\n",
    "    y = 'Electric Vehicle Type',\n",
    "    x = 'Count', \n",
    "    color = alt.Color('Electric Vehicle Type', scale = alt.Scale(range = ['#a6d854', '#8da0cb'])), \n",
    "    tooltip = ['Count']\n",
    ")"
   ]
  },
  {
   "cell_type": "code",
   "execution_count": null,
   "id": "da842d3f-2b90-4069-a4e1-81822d2a8441",
   "metadata": {},
   "outputs": [],
   "source": [
    "# Now lets view the same data, but this time as a stacked bar chart showing the overall percentange of BEVs vs PHEVs\n",
    "alt.Chart(summary).transform_joinaggregate(\n",
    "    TotalEVs='sum(Count)',\n",
    ").transform_calculate(\n",
    "    PercentOfWAEVs=\"datum.Count / datum.TotalEVs\"\n",
    ").mark_bar().encode(\n",
    "    alt.X('PercentOfWAEVs:Q').axis(format='.0%', title = 'WA State EV Types'), \n",
    "    color = alt.Color('Electric Vehicle Type', scale = alt.Scale(range = ['#a6d854', '#8da0cb'])), \n",
    "    tooltip = ['Electric Vehicle Type', alt.Tooltip('PercentOfWAEVs:Q', format='.1%', title='Percentage')]\n",
    ")"
   ]
  },
  {
   "cell_type": "markdown",
   "id": "f1e27b4f-8058-40a4-b618-cac0824bbb10",
   "metadata": {},
   "source": [
    "As you can see, Battery Electric Vehicles are far more common than Plug-in Hybrid Electric Vehicles, accounting for about 80% of the Electric Vehicles in Washington State"
   ]
  },
  {
   "cell_type": "markdown",
   "id": "4fe93f5f-f0dc-4687-a0cd-2804375ded63",
   "metadata": {},
   "source": [
    "## **Question 2: What are the most common makes and models of EVs?**"
   ]
  },
  {
   "cell_type": "code",
   "execution_count": null,
   "id": "6bf34feb-7309-4435-8fd2-33b1d4ad2fcf",
   "metadata": {},
   "outputs": [],
   "source": [
    "## Summarize EVS by make\n",
    "df['Make'].value_counts()"
   ]
  },
  {
   "cell_type": "markdown",
   "id": "bd170aec-052d-4f98-a625-4efd5eb2acab",
   "metadata": {},
   "source": [
    "As you can see, there are many EV makes. Let's look at the top 5 manufacturers"
   ]
  },
  {
   "cell_type": "code",
   "execution_count": null,
   "id": "8b2e754a-f86c-4ce7-885a-ec10dde47f86",
   "metadata": {},
   "outputs": [],
   "source": [
    "# summarize top 5 makes\n",
    "summary = df['Make'].value_counts().to_frame(name='Count').reset_index()\n",
    "summary.head(5).style.hide(axis=\"index\")"
   ]
  },
  {
   "cell_type": "code",
   "execution_count": null,
   "id": "052bcbbf-24bd-4498-be29-3c28c95ecade",
   "metadata": {},
   "outputs": [],
   "source": [
    "# Now lets visualize the top models for Tesla, Chevrolet, Nissan, Ford, and Kia in a side by side bar chart\n",
    "\n",
    "# create a df with just Tesla, Chevy, Nissan, Ford, and Kia\n",
    "top_5_makes = ['TESLA', 'CHEVROLET', 'NISSAN', 'FORD', 'KIA']\n",
    "df_top5 = df[df['Make'].isin(top_5_makes)]\n",
    "\n",
    "selection = alt.selection_point(fields=[\"Make\"])\n",
    "base =  alt.Chart(df_top5).properties(width=250, height=250)\n",
    "\n",
    "# color scheme, set2. drop blue and green that have already been used. \n",
    "overview_colors = [\"#66c2a5\", \"#fc8d62\", \"#e78ac3\", \"#ffd92f\", \"#e5c494\", \"#b3b3b3\"]\n",
    "\n",
    "# overview chart showing top 5 makes\n",
    "overview = alt.Chart(df_top5).mark_bar().encode(\n",
    "    y = alt.Y('count()').title(\"Count\"),\n",
    "    x = alt.X(\"Make\").sort('-y'),\n",
    "    color = alt.condition(selection, alt.value('#e78ac3'), alt.value(\"lightgrey\")), \n",
    "    tooltip = [\n",
    "        alt.Tooltip('Make'),\n",
    "        alt.Tooltip('count()', title = 'Count')]\n",
    ").add_params(selection).properties(height=250, width=250, title = 'Top EV Makes')\n",
    "\n",
    "# detail chart showing models within each make\n",
    "detail = base.mark_bar().encode(\n",
    "    y = alt.Y(\"count()\").title(\"Count\"),\n",
    "    x = alt.X(\"Model\").sort('-y'),\n",
    "    color = alt.Color('Electric Vehicle Type', scale = alt.Scale(range = ['#a6d854', '#8da0cb'])), \n",
    "    tooltip = [\n",
    "        alt.Tooltip('Model'),\n",
    "        alt.Tooltip('count()', title = 'Count')]\n",
    ").transform_filter(selection).properties(height=250, width=250, title = 'Top EV Models')\n",
    "\n",
    "filtered_chart = overview | detail"
   ]
  },
  {
   "cell_type": "code",
   "execution_count": null,
   "id": "e05f2a6a-50d3-4307-80fc-3bd85c066b46",
   "metadata": {},
   "outputs": [],
   "source": [
    "filtered_chart"
   ]
  },
  {
   "cell_type": "markdown",
   "id": "2ae039a4-71d7-43b0-bed7-399ad65c5b21",
   "metadata": {},
   "source": [
    "## **Question 3: Which Washington state counties have the most EVs?**"
   ]
  },
  {
   "cell_type": "code",
   "execution_count": null,
   "id": "0c87c4cb-2b8a-43a4-9a26-756e978b84cf",
   "metadata": {},
   "outputs": [],
   "source": [
    "# summarize EV count by county\n",
    "# vehicles registered in WA may reside outside of WA, but for the purposes of this analysis, I only want to look at vehicles located in WA\n",
    "county_summary = df[df['State'] == 'WA']\n",
    "county_summary = county_summary['County'].value_counts().to_frame(name='Count').reset_index()"
   ]
  },
  {
   "cell_type": "markdown",
   "id": "ebc6f32e-1bba-4d92-bfb3-aea3c7a25c6f",
   "metadata": {},
   "source": [
    "As you can see, most EVs are registered in King, Snohomish, and Pierce counties. Let's visualize the number of EVs in each county on a map of Washington state. "
   ]
  },
  {
   "cell_type": "code",
   "execution_count": null,
   "id": "194fa5c2-778a-4588-bfa1-b69b82c9ad77",
   "metadata": {},
   "outputs": [],
   "source": [
    "# First we need to pull in a map of the US counties from the vega datasets\n",
    "# Citation: I used ChatGPT to learn out to how to pull in a map of all US counties\n",
    "counties = alt.topo_feature(data.us_10m.url, 'counties')"
   ]
  },
  {
   "cell_type": "code",
   "execution_count": null,
   "id": "a8c45427-44a8-4711-ad28-263576fa1e13",
   "metadata": {},
   "outputs": [],
   "source": [
    "# The TopoJSON maps counties by FIPS code, whereas the EV dataset refers to county by name. \n",
    "# I found a list of all the WA state counties and their FIPS code here: https://unicede.air-worldwide.com/unicede/unicede_washington_fips.html\n",
    "# Then I created a csv file with the state code, county code, combined code, and county name\n",
    "FIPS_codes = pd.read_csv('WA_FIPS.csv')\n",
    "FIPS_codes.head()"
   ]
  },
  {
   "cell_type": "code",
   "execution_count": null,
   "id": "0d7f75f7-f6b8-4f5a-beac-9fee47e70d58",
   "metadata": {},
   "outputs": [],
   "source": [
    "# Now we can pull in the FIPS Code and add it to the EV dataset\n",
    "county_summary['FIPS Code'] = county_summary['County'].map(FIPS_codes.set_index(\"County Name\")[\"FIPS Code\"])"
   ]
  },
  {
   "cell_type": "code",
   "execution_count": null,
   "id": "b71a01e8-3f65-4ae3-8ff8-d3dfea61e71e",
   "metadata": {},
   "outputs": [],
   "source": [
    "# Now we create a choropleth map with the number of EVs by county\n",
    "# Citation: I used ChatGPT to learn out to how to filter for WA state and create the choropleth map\n",
    "# The Altair documentation is also useful: https://altair-viz.github.io/altair-tutorial/notebooks/09-Geographic-plots.html\n",
    "\n",
    "alt.Chart(counties).mark_geoshape(\n",
    "    stroke=\"white\"\n",
    ").transform_filter(\n",
    "    \"floor(datum.id / 1000) == 53\"\n",
    ").transform_lookup(\n",
    "    lookup=\"id\",   \n",
    "    from_=alt.LookupData(county_summary, \"FIPS Code\", [\"County\", \"Count\"])\n",
    ").encode(\n",
    "    color=alt.Color(\"Count:Q\", scale=alt.Scale(scheme = sequential)),\n",
    "    tooltip=[\"County:N\", \"Count:Q\"]\n",
    ").project(\"mercator\").properties(\n",
    "    width=400,\n",
    "    height=400,\n",
    "    title=\"Electric Vehicles by County in Washington\"\n",
    ")"
   ]
  },
  {
   "cell_type": "markdown",
   "id": "c26bb4c4-ba92-413a-afc0-ae79974a0ee2",
   "metadata": {},
   "source": [
    "As you can see, the majority of EVs are located in King county, followed up by Snohomish and Pierce counties. This probably makes sense given that EV chargers tend to be located in more populated areas. "
   ]
  }
 ],
 "metadata": {
  "kernelspec": {
   "display_name": "Python 3 (ipykernel)",
   "language": "python",
   "name": "python3"
  },
  "language_info": {
   "codemirror_mode": {
    "name": "ipython",
    "version": 3
   },
   "file_extension": ".py",
   "mimetype": "text/x-python",
   "name": "python",
   "nbconvert_exporter": "python",
   "pygments_lexer": "ipython3",
   "version": "3.12.2"
  }
 },
 "nbformat": 4,
 "nbformat_minor": 5
}
