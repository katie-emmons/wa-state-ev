{
 "cells": [
  {
   "cell_type": "markdown",
   "id": "9551dcbf-2bea-4ed8-8c91-c7633e0570a1",
   "metadata": {},
   "source": [
    "## Electric Vehicle Population Data - 2025 \n",
    "This dataset from the Washington State Open Data Portal contains information about Battery Electric Vehicles (BEVs) and Plug-in Hybrid Electric Vehicles (PHEVs) that are currently registered through the Washington State Department of Licensing (DOL). Each record represents an individual vehicle and reflects the growing population of electric vehicles in Washington. \n",
    "\n",
    "Access & Use Information\n",
    "* Source: https://data.wa.gov/Transportation/Electric-Vehicle-Population-Data/f6w7-q2d2/about_data\n",
    "* Public: This dataset is intended for public access and use.\n",
    "* License: Open Data Commons Open Database License (ODbL) v1.0\n",
    "\n",
    "The goal of this notebook is to explore the Washington State EV dataset using Altair, a Python library for creating interactive visualizations. "
   ]
  },
  {
   "cell_type": "markdown",
   "id": "5c8aa47f-5553-4d75-8029-24a5841802a4",
   "metadata": {},
   "source": [
    "### 1. Import data and packages"
   ]
  },
  {
   "cell_type": "code",
   "execution_count": 1,
   "id": "4fb756ba-e96b-43ec-a41a-7df6b35a88f4",
   "metadata": {},
   "outputs": [],
   "source": [
    "#!pip install --upgrade altair\n",
    "#!pip install altair vega_datasets"
   ]
  },
  {
   "cell_type": "code",
   "execution_count": 2,
   "id": "74c86b08-e54e-4395-bb9c-6c6a5f93244c",
   "metadata": {},
   "outputs": [
    {
     "data": {
      "text/plain": [
       "DataTransformerRegistry.enable('default')"
      ]
     },
     "execution_count": 2,
     "metadata": {},
     "output_type": "execute_result"
    }
   ],
   "source": [
    "import pandas as pd\n",
    "import altair as alt\n",
    "from vega_datasets import data\n",
    "\n",
    "alt.data_transformers.disable_max_rows()"
   ]
  },
  {
   "cell_type": "code",
   "execution_count": 3,
   "id": "5482cb01-131a-4a5f-98e2-81dfa33b9cee",
   "metadata": {},
   "outputs": [],
   "source": [
    "df = pd.read_csv(\"Electric_Vehicle_Population_Data_20250825.csv\")"
   ]
  },
  {
   "cell_type": "markdown",
   "id": "6de74ccf-3483-48cf-bdc2-353686b08a80",
   "metadata": {},
   "source": [
    "### 2. Explore the dataset"
   ]
  },
  {
   "cell_type": "code",
   "execution_count": 4,
   "id": "41590b60-2746-42bd-b05e-8b71ca1f8e27",
   "metadata": {},
   "outputs": [
    {
     "name": "stdout",
     "output_type": "stream",
     "text": [
      "Number of records:  257635\n"
     ]
    }
   ],
   "source": [
    "print(\"Number of records: \", len(df))"
   ]
  },
  {
   "cell_type": "code",
   "execution_count": 5,
   "id": "dd168a5b-8138-4087-8e2b-45fc0cc62cd4",
   "metadata": {},
   "outputs": [
    {
     "data": {
      "text/html": [
       "<div>\n",
       "<style scoped>\n",
       "    .dataframe tbody tr th:only-of-type {\n",
       "        vertical-align: middle;\n",
       "    }\n",
       "\n",
       "    .dataframe tbody tr th {\n",
       "        vertical-align: top;\n",
       "    }\n",
       "\n",
       "    .dataframe thead th {\n",
       "        text-align: right;\n",
       "    }\n",
       "</style>\n",
       "<table border=\"1\" class=\"dataframe\">\n",
       "  <thead>\n",
       "    <tr style=\"text-align: right;\">\n",
       "      <th></th>\n",
       "      <th>VIN (1-10)</th>\n",
       "      <th>County</th>\n",
       "      <th>City</th>\n",
       "      <th>State</th>\n",
       "      <th>Postal Code</th>\n",
       "      <th>Model Year</th>\n",
       "      <th>Make</th>\n",
       "      <th>Model</th>\n",
       "      <th>Electric Vehicle Type</th>\n",
       "      <th>Clean Alternative Fuel Vehicle (CAFV) Eligibility</th>\n",
       "      <th>Electric Range</th>\n",
       "      <th>Base MSRP</th>\n",
       "      <th>Legislative District</th>\n",
       "      <th>DOL Vehicle ID</th>\n",
       "      <th>Vehicle Location</th>\n",
       "      <th>Electric Utility</th>\n",
       "      <th>2020 Census Tract</th>\n",
       "    </tr>\n",
       "  </thead>\n",
       "  <tbody>\n",
       "    <tr>\n",
       "      <th>0</th>\n",
       "      <td>5YJ3E1EB5K</td>\n",
       "      <td>Yakima</td>\n",
       "      <td>Yakima</td>\n",
       "      <td>WA</td>\n",
       "      <td>98901.0</td>\n",
       "      <td>2019</td>\n",
       "      <td>TESLA</td>\n",
       "      <td>MODEL 3</td>\n",
       "      <td>Battery Electric Vehicle (BEV)</td>\n",
       "      <td>Clean Alternative Fuel Vehicle Eligible</td>\n",
       "      <td>220.0</td>\n",
       "      <td>0.0</td>\n",
       "      <td>15.0</td>\n",
       "      <td>347724772</td>\n",
       "      <td>POINT (-120.50729 46.60464)</td>\n",
       "      <td>PACIFICORP</td>\n",
       "      <td>5.307700e+10</td>\n",
       "    </tr>\n",
       "    <tr>\n",
       "      <th>1</th>\n",
       "      <td>1C4RJXU67R</td>\n",
       "      <td>Kitsap</td>\n",
       "      <td>Port Orchard</td>\n",
       "      <td>WA</td>\n",
       "      <td>98367.0</td>\n",
       "      <td>2024</td>\n",
       "      <td>JEEP</td>\n",
       "      <td>WRANGLER</td>\n",
       "      <td>Plug-in Hybrid Electric Vehicle (PHEV)</td>\n",
       "      <td>Not eligible due to low battery range</td>\n",
       "      <td>21.0</td>\n",
       "      <td>0.0</td>\n",
       "      <td>35.0</td>\n",
       "      <td>272165288</td>\n",
       "      <td>POINT (-122.68471 47.50524)</td>\n",
       "      <td>PUGET SOUND ENERGY INC</td>\n",
       "      <td>5.303509e+10</td>\n",
       "    </tr>\n",
       "    <tr>\n",
       "      <th>2</th>\n",
       "      <td>KNDCD3LD0N</td>\n",
       "      <td>Snohomish</td>\n",
       "      <td>Lynnwood</td>\n",
       "      <td>WA</td>\n",
       "      <td>98036.0</td>\n",
       "      <td>2022</td>\n",
       "      <td>KIA</td>\n",
       "      <td>NIRO</td>\n",
       "      <td>Plug-in Hybrid Electric Vehicle (PHEV)</td>\n",
       "      <td>Not eligible due to low battery range</td>\n",
       "      <td>26.0</td>\n",
       "      <td>0.0</td>\n",
       "      <td>32.0</td>\n",
       "      <td>203182584</td>\n",
       "      <td>POINT (-122.29245 47.82557)</td>\n",
       "      <td>PUGET SOUND ENERGY INC</td>\n",
       "      <td>5.306105e+10</td>\n",
       "    </tr>\n",
       "    <tr>\n",
       "      <th>3</th>\n",
       "      <td>5UXKT0C37H</td>\n",
       "      <td>King</td>\n",
       "      <td>Auburn</td>\n",
       "      <td>WA</td>\n",
       "      <td>98001.0</td>\n",
       "      <td>2017</td>\n",
       "      <td>BMW</td>\n",
       "      <td>X5</td>\n",
       "      <td>Plug-in Hybrid Electric Vehicle (PHEV)</td>\n",
       "      <td>Not eligible due to low battery range</td>\n",
       "      <td>14.0</td>\n",
       "      <td>0.0</td>\n",
       "      <td>30.0</td>\n",
       "      <td>349010287</td>\n",
       "      <td>POINT (-122.23035 47.3074)</td>\n",
       "      <td>PUGET SOUND ENERGY INC||CITY OF TACOMA - (WA)</td>\n",
       "      <td>5.303303e+10</td>\n",
       "    </tr>\n",
       "    <tr>\n",
       "      <th>4</th>\n",
       "      <td>1N4AZ0CP1D</td>\n",
       "      <td>Skagit</td>\n",
       "      <td>Mount Vernon</td>\n",
       "      <td>WA</td>\n",
       "      <td>98273.0</td>\n",
       "      <td>2013</td>\n",
       "      <td>NISSAN</td>\n",
       "      <td>LEAF</td>\n",
       "      <td>Battery Electric Vehicle (BEV)</td>\n",
       "      <td>Clean Alternative Fuel Vehicle Eligible</td>\n",
       "      <td>75.0</td>\n",
       "      <td>0.0</td>\n",
       "      <td>40.0</td>\n",
       "      <td>131684150</td>\n",
       "      <td>POINT (-122.33891 48.41644)</td>\n",
       "      <td>PUGET SOUND ENERGY INC</td>\n",
       "      <td>5.305795e+10</td>\n",
       "    </tr>\n",
       "  </tbody>\n",
       "</table>\n",
       "</div>"
      ],
      "text/plain": [
       "   VIN (1-10)     County          City State  Postal Code  Model Year    Make  \\\n",
       "0  5YJ3E1EB5K     Yakima        Yakima    WA      98901.0        2019   TESLA   \n",
       "1  1C4RJXU67R     Kitsap  Port Orchard    WA      98367.0        2024    JEEP   \n",
       "2  KNDCD3LD0N  Snohomish      Lynnwood    WA      98036.0        2022     KIA   \n",
       "3  5UXKT0C37H       King        Auburn    WA      98001.0        2017     BMW   \n",
       "4  1N4AZ0CP1D     Skagit  Mount Vernon    WA      98273.0        2013  NISSAN   \n",
       "\n",
       "      Model                   Electric Vehicle Type  \\\n",
       "0   MODEL 3          Battery Electric Vehicle (BEV)   \n",
       "1  WRANGLER  Plug-in Hybrid Electric Vehicle (PHEV)   \n",
       "2      NIRO  Plug-in Hybrid Electric Vehicle (PHEV)   \n",
       "3        X5  Plug-in Hybrid Electric Vehicle (PHEV)   \n",
       "4      LEAF          Battery Electric Vehicle (BEV)   \n",
       "\n",
       "  Clean Alternative Fuel Vehicle (CAFV) Eligibility  Electric Range  \\\n",
       "0           Clean Alternative Fuel Vehicle Eligible           220.0   \n",
       "1             Not eligible due to low battery range            21.0   \n",
       "2             Not eligible due to low battery range            26.0   \n",
       "3             Not eligible due to low battery range            14.0   \n",
       "4           Clean Alternative Fuel Vehicle Eligible            75.0   \n",
       "\n",
       "   Base MSRP  Legislative District  DOL Vehicle ID  \\\n",
       "0        0.0                  15.0       347724772   \n",
       "1        0.0                  35.0       272165288   \n",
       "2        0.0                  32.0       203182584   \n",
       "3        0.0                  30.0       349010287   \n",
       "4        0.0                  40.0       131684150   \n",
       "\n",
       "              Vehicle Location                               Electric Utility  \\\n",
       "0  POINT (-120.50729 46.60464)                                     PACIFICORP   \n",
       "1  POINT (-122.68471 47.50524)                         PUGET SOUND ENERGY INC   \n",
       "2  POINT (-122.29245 47.82557)                         PUGET SOUND ENERGY INC   \n",
       "3   POINT (-122.23035 47.3074)  PUGET SOUND ENERGY INC||CITY OF TACOMA - (WA)   \n",
       "4  POINT (-122.33891 48.41644)                         PUGET SOUND ENERGY INC   \n",
       "\n",
       "   2020 Census Tract  \n",
       "0       5.307700e+10  \n",
       "1       5.303509e+10  \n",
       "2       5.306105e+10  \n",
       "3       5.303303e+10  \n",
       "4       5.305795e+10  "
      ]
     },
     "execution_count": 5,
     "metadata": {},
     "output_type": "execute_result"
    }
   ],
   "source": [
    "df.head()"
   ]
  },
  {
   "cell_type": "markdown",
   "id": "16b0c89b-9470-41e1-afbf-838b71274cc9",
   "metadata": {},
   "source": [
    "### 3. Define Questions"
   ]
  },
  {
   "cell_type": "markdown",
   "id": "e49bab53-e47c-4451-8b35-6f8e4188dce3",
   "metadata": {},
   "source": [
    "**Question 1: What is the most common EV type?**"
   ]
  },
  {
   "cell_type": "code",
   "execution_count": 6,
   "id": "62c39394-2b19-4492-ad5a-c6ed591adc29",
   "metadata": {},
   "outputs": [],
   "source": [
    "# Summarize data so it renders quicker\n",
    "summary = df['Electric Vehicle Type'].value_counts().to_frame(name='Count').reset_index()"
   ]
  },
  {
   "cell_type": "code",
   "execution_count": 7,
   "id": "9cba5085-a633-4c19-8eff-461ec636267d",
   "metadata": {},
   "outputs": [],
   "source": [
    "# Color palette to use throughout \n",
    "categorical = 'set2'\n",
    "sequential = 'blues'"
   ]
  },
  {
   "cell_type": "code",
   "execution_count": 30,
   "id": "013431ef-ead2-40e4-813f-5c4a3c6b20ef",
   "metadata": {},
   "outputs": [
    {
     "data": {
      "text/html": [
       "\n",
       "<style>\n",
       "  #altair-viz-c2c3c8901f8b4a5fb56dd951ddbe2288.vega-embed {\n",
       "    width: 100%;\n",
       "    display: flex;\n",
       "  }\n",
       "\n",
       "  #altair-viz-c2c3c8901f8b4a5fb56dd951ddbe2288.vega-embed details,\n",
       "  #altair-viz-c2c3c8901f8b4a5fb56dd951ddbe2288.vega-embed details summary {\n",
       "    position: relative;\n",
       "  }\n",
       "</style>\n",
       "<div id=\"altair-viz-c2c3c8901f8b4a5fb56dd951ddbe2288\"></div>\n",
       "<script type=\"text/javascript\">\n",
       "  var VEGA_DEBUG = (typeof VEGA_DEBUG == \"undefined\") ? {} : VEGA_DEBUG;\n",
       "  (function(spec, embedOpt){\n",
       "    let outputDiv = document.currentScript.previousElementSibling;\n",
       "    if (outputDiv.id !== \"altair-viz-c2c3c8901f8b4a5fb56dd951ddbe2288\") {\n",
       "      outputDiv = document.getElementById(\"altair-viz-c2c3c8901f8b4a5fb56dd951ddbe2288\");\n",
       "    }\n",
       "\n",
       "    const paths = {\n",
       "      \"vega\": \"https://cdn.jsdelivr.net/npm/vega@5?noext\",\n",
       "      \"vega-lib\": \"https://cdn.jsdelivr.net/npm/vega-lib?noext\",\n",
       "      \"vega-lite\": \"https://cdn.jsdelivr.net/npm/vega-lite@5.20.1?noext\",\n",
       "      \"vega-embed\": \"https://cdn.jsdelivr.net/npm/vega-embed@6?noext\",\n",
       "    };\n",
       "\n",
       "    function maybeLoadScript(lib, version) {\n",
       "      var key = `${lib.replace(\"-\", \"\")}_version`;\n",
       "      return (VEGA_DEBUG[key] == version) ?\n",
       "        Promise.resolve(paths[lib]) :\n",
       "        new Promise(function(resolve, reject) {\n",
       "          var s = document.createElement('script');\n",
       "          document.getElementsByTagName(\"head\")[0].appendChild(s);\n",
       "          s.async = true;\n",
       "          s.onload = () => {\n",
       "            VEGA_DEBUG[key] = version;\n",
       "            return resolve(paths[lib]);\n",
       "          };\n",
       "          s.onerror = () => reject(`Error loading script: ${paths[lib]}`);\n",
       "          s.src = paths[lib];\n",
       "        });\n",
       "    }\n",
       "\n",
       "    function showError(err) {\n",
       "      outputDiv.innerHTML = `<div class=\"error\" style=\"color:red;\">${err}</div>`;\n",
       "      throw err;\n",
       "    }\n",
       "\n",
       "    function displayChart(vegaEmbed) {\n",
       "      vegaEmbed(outputDiv, spec, embedOpt)\n",
       "        .catch(err => showError(`Javascript Error: ${err.message}<br>This usually means there's a typo in your chart specification. See the javascript console for the full traceback.`));\n",
       "    }\n",
       "\n",
       "    if(typeof define === \"function\" && define.amd) {\n",
       "      requirejs.config({paths});\n",
       "      let deps = [\"vega-embed\"];\n",
       "      require(deps, displayChart, err => showError(`Error loading script: ${err.message}`));\n",
       "    } else {\n",
       "      maybeLoadScript(\"vega\", \"5\")\n",
       "        .then(() => maybeLoadScript(\"vega-lite\", \"5.20.1\"))\n",
       "        .then(() => maybeLoadScript(\"vega-embed\", \"6\"))\n",
       "        .catch(showError)\n",
       "        .then(() => displayChart(vegaEmbed));\n",
       "    }\n",
       "  })({\"config\": {\"view\": {\"continuousWidth\": 300, \"continuousHeight\": 300}}, \"data\": {\"name\": \"data-5d88723e2b54bc11d2b7d4b2b738503a\"}, \"mark\": {\"type\": \"bar\"}, \"encoding\": {\"color\": {\"field\": \"Electric Vehicle Type\", \"scale\": {\"range\": [\"#a6d854\", \"#8da0cb\"]}, \"type\": \"nominal\"}, \"tooltip\": [{\"field\": \"Count\", \"type\": \"quantitative\"}], \"x\": {\"field\": \"Count\", \"type\": \"quantitative\"}, \"y\": {\"field\": \"Electric Vehicle Type\", \"type\": \"nominal\"}}, \"$schema\": \"https://vega.github.io/schema/vega-lite/v5.20.1.json\", \"datasets\": {\"data-5d88723e2b54bc11d2b7d4b2b738503a\": [{\"Electric Vehicle Type\": \"Battery Electric Vehicle (BEV)\", \"Count\": 205095}, {\"Electric Vehicle Type\": \"Plug-in Hybrid Electric Vehicle (PHEV)\", \"Count\": 52540}]}}, {\"mode\": \"vega-lite\"});\n",
       "</script>"
      ],
      "text/plain": [
       "alt.Chart(...)"
      ]
     },
     "execution_count": 30,
     "metadata": {},
     "output_type": "execute_result"
    }
   ],
   "source": [
    "# Simple bar chart showing number of BEVs and PHEVs in WA\n",
    "alt.Chart(summary).mark_bar().encode(\n",
    "    y = 'Electric Vehicle Type',\n",
    "    x = 'Count', \n",
    "    color = alt.Color('Electric Vehicle Type', scale = alt.Scale(range = ['#a6d854', '#8da0cb'])), \n",
    "    tooltip = ['Count']\n",
    ")"
   ]
  },
  {
   "cell_type": "code",
   "execution_count": 27,
   "id": "da842d3f-2b90-4069-a4e1-81822d2a8441",
   "metadata": {},
   "outputs": [
    {
     "data": {
      "text/html": [
       "\n",
       "<style>\n",
       "  #altair-viz-8124d0678b3249538363dc1fa8a8ae62.vega-embed {\n",
       "    width: 100%;\n",
       "    display: flex;\n",
       "  }\n",
       "\n",
       "  #altair-viz-8124d0678b3249538363dc1fa8a8ae62.vega-embed details,\n",
       "  #altair-viz-8124d0678b3249538363dc1fa8a8ae62.vega-embed details summary {\n",
       "    position: relative;\n",
       "  }\n",
       "</style>\n",
       "<div id=\"altair-viz-8124d0678b3249538363dc1fa8a8ae62\"></div>\n",
       "<script type=\"text/javascript\">\n",
       "  var VEGA_DEBUG = (typeof VEGA_DEBUG == \"undefined\") ? {} : VEGA_DEBUG;\n",
       "  (function(spec, embedOpt){\n",
       "    let outputDiv = document.currentScript.previousElementSibling;\n",
       "    if (outputDiv.id !== \"altair-viz-8124d0678b3249538363dc1fa8a8ae62\") {\n",
       "      outputDiv = document.getElementById(\"altair-viz-8124d0678b3249538363dc1fa8a8ae62\");\n",
       "    }\n",
       "\n",
       "    const paths = {\n",
       "      \"vega\": \"https://cdn.jsdelivr.net/npm/vega@5?noext\",\n",
       "      \"vega-lib\": \"https://cdn.jsdelivr.net/npm/vega-lib?noext\",\n",
       "      \"vega-lite\": \"https://cdn.jsdelivr.net/npm/vega-lite@5.20.1?noext\",\n",
       "      \"vega-embed\": \"https://cdn.jsdelivr.net/npm/vega-embed@6?noext\",\n",
       "    };\n",
       "\n",
       "    function maybeLoadScript(lib, version) {\n",
       "      var key = `${lib.replace(\"-\", \"\")}_version`;\n",
       "      return (VEGA_DEBUG[key] == version) ?\n",
       "        Promise.resolve(paths[lib]) :\n",
       "        new Promise(function(resolve, reject) {\n",
       "          var s = document.createElement('script');\n",
       "          document.getElementsByTagName(\"head\")[0].appendChild(s);\n",
       "          s.async = true;\n",
       "          s.onload = () => {\n",
       "            VEGA_DEBUG[key] = version;\n",
       "            return resolve(paths[lib]);\n",
       "          };\n",
       "          s.onerror = () => reject(`Error loading script: ${paths[lib]}`);\n",
       "          s.src = paths[lib];\n",
       "        });\n",
       "    }\n",
       "\n",
       "    function showError(err) {\n",
       "      outputDiv.innerHTML = `<div class=\"error\" style=\"color:red;\">${err}</div>`;\n",
       "      throw err;\n",
       "    }\n",
       "\n",
       "    function displayChart(vegaEmbed) {\n",
       "      vegaEmbed(outputDiv, spec, embedOpt)\n",
       "        .catch(err => showError(`Javascript Error: ${err.message}<br>This usually means there's a typo in your chart specification. See the javascript console for the full traceback.`));\n",
       "    }\n",
       "\n",
       "    if(typeof define === \"function\" && define.amd) {\n",
       "      requirejs.config({paths});\n",
       "      let deps = [\"vega-embed\"];\n",
       "      require(deps, displayChart, err => showError(`Error loading script: ${err.message}`));\n",
       "    } else {\n",
       "      maybeLoadScript(\"vega\", \"5\")\n",
       "        .then(() => maybeLoadScript(\"vega-lite\", \"5.20.1\"))\n",
       "        .then(() => maybeLoadScript(\"vega-embed\", \"6\"))\n",
       "        .catch(showError)\n",
       "        .then(() => displayChart(vegaEmbed));\n",
       "    }\n",
       "  })({\"config\": {\"view\": {\"continuousWidth\": 300, \"continuousHeight\": 300}}, \"data\": {\"name\": \"data-5d88723e2b54bc11d2b7d4b2b738503a\"}, \"mark\": {\"type\": \"bar\"}, \"encoding\": {\"color\": {\"field\": \"Electric Vehicle Type\", \"scale\": {\"range\": [\"#a6d854\", \"#8da0cb\"]}, \"type\": \"nominal\"}, \"tooltip\": [{\"field\": \"Electric Vehicle Type\", \"type\": \"nominal\"}, {\"field\": \"PercentOfWAEVs\", \"format\": \".1%\", \"title\": \"Percentage\", \"type\": \"quantitative\"}], \"x\": {\"axis\": {\"format\": \".0%\", \"title\": \"WA State EV Types\"}, \"field\": \"PercentOfWAEVs\", \"type\": \"quantitative\"}}, \"transform\": [{\"joinaggregate\": [{\"op\": \"sum\", \"field\": \"Count\", \"as\": \"TotalEVs\"}]}, {\"calculate\": \"datum.Count / datum.TotalEVs\", \"as\": \"PercentOfWAEVs\"}], \"$schema\": \"https://vega.github.io/schema/vega-lite/v5.20.1.json\", \"datasets\": {\"data-5d88723e2b54bc11d2b7d4b2b738503a\": [{\"Electric Vehicle Type\": \"Battery Electric Vehicle (BEV)\", \"Count\": 205095}, {\"Electric Vehicle Type\": \"Plug-in Hybrid Electric Vehicle (PHEV)\", \"Count\": 52540}]}}, {\"mode\": \"vega-lite\"});\n",
       "</script>"
      ],
      "text/plain": [
       "alt.Chart(...)"
      ]
     },
     "execution_count": 27,
     "metadata": {},
     "output_type": "execute_result"
    }
   ],
   "source": [
    "# Now lets view the same data, but this time as a stacked bar chart showing the overall percentange of BEVs vs PHEVs\n",
    "alt.Chart(summary).transform_joinaggregate(\n",
    "    TotalEVs='sum(Count)',\n",
    ").transform_calculate(\n",
    "    PercentOfWAEVs=\"datum.Count / datum.TotalEVs\"\n",
    ").mark_bar().encode(\n",
    "    alt.X('PercentOfWAEVs:Q').axis(format='.0%', title = 'WA State EV Types'), \n",
    "    color = alt.Color('Electric Vehicle Type', scale = alt.Scale(range = ['#e78ac3', '#8da0cb'])), \n",
    "    tooltip = ['Electric Vehicle Type', alt.Tooltip('PercentOfWAEVs:Q', format='.1%', title='Percentage')]\n",
    ")"
   ]
  },
  {
   "cell_type": "markdown",
   "id": "f1e27b4f-8058-40a4-b618-cac0824bbb10",
   "metadata": {},
   "source": [
    "As you can see, Battery Electric Vehicles are far more common than Plug-in Hybrid Electric Vehicles, accounting for about 80% of the Electric Vehicles in Washington State"
   ]
  },
  {
   "cell_type": "markdown",
   "id": "4fe93f5f-f0dc-4687-a0cd-2804375ded63",
   "metadata": {},
   "source": [
    "## **Question 2: What are the most common makes and models of EVs?**"
   ]
  },
  {
   "cell_type": "code",
   "execution_count": 10,
   "id": "6bf34feb-7309-4435-8fd2-33b1d4ad2fcf",
   "metadata": {},
   "outputs": [
    {
     "data": {
      "text/plain": [
       "Make\n",
       "TESLA                     107535\n",
       "CHEVROLET                  18602\n",
       "NISSAN                     16274\n",
       "FORD                       13750\n",
       "KIA                        12586\n",
       "BMW                        10656\n",
       "TOYOTA                     10622\n",
       "HYUNDAI                     8638\n",
       "RIVIAN                      7816\n",
       "VOLVO                       6673\n",
       "VOLKSWAGEN                  6607\n",
       "JEEP                        6599\n",
       "AUDI                        5190\n",
       "CHRYSLER                    3817\n",
       "MERCEDES-BENZ               2918\n",
       "HONDA                       2526\n",
       "SUBARU                      2473\n",
       "PORSCHE                     1772\n",
       "CADILLAC                    1596\n",
       "POLESTAR                    1453\n",
       "MAZDA                       1282\n",
       "MINI                        1202\n",
       "MITSUBISHI                  1170\n",
       "LEXUS                       1165\n",
       "FIAT                         850\n",
       "DODGE                        759\n",
       "LUCID                        477\n",
       "GMC                          472\n",
       "GENESIS                      433\n",
       "LINCOLN                      417\n",
       "ACURA                        335\n",
       "SMART                        241\n",
       "JAGUAR                       209\n",
       "LAND ROVER                   185\n",
       "FISKER                       144\n",
       "ALFA ROMEO                   100\n",
       "BRIGHTDROP                    40\n",
       "LAMBORGHINI                   13\n",
       "RAM                            9\n",
       "BENTLEY                        8\n",
       "ROLLS-ROYCE                    6\n",
       "TH!NK                          5\n",
       "AZURE DYNAMICS                 4\n",
       "WHEEGO ELECTRIC CARS           2\n",
       "MULLEN AUTOMOTIVE INC.         2\n",
       "VINFAST                        2\n",
       "Name: count, dtype: int64"
      ]
     },
     "execution_count": 10,
     "metadata": {},
     "output_type": "execute_result"
    }
   ],
   "source": [
    "## Summarize EVS by make\n",
    "df['Make'].value_counts()"
   ]
  },
  {
   "cell_type": "markdown",
   "id": "bd170aec-052d-4f98-a625-4efd5eb2acab",
   "metadata": {},
   "source": [
    "As you can see, the top brands are Tesla, Chevrolet, and Nissan. Let's look at the top models within each of those brands. "
   ]
  },
  {
   "cell_type": "code",
   "execution_count": 11,
   "id": "8b2e754a-f86c-4ce7-885a-ec10dde47f86",
   "metadata": {},
   "outputs": [],
   "source": [
    "## Get the top models for Tesla, Chevrolet, and Nissan\n",
    "tesla = df.loc[df['Make'] == \"TESLA\"]\n",
    "tesla_summary = tesla['Model'].value_counts().to_frame(name='Count').reset_index()\n",
    "\n",
    "chevy = df.loc[df['Make'] == \"CHEVROLET\"]\n",
    "chevy_summary = chevy['Model'].value_counts().to_frame(name='Count').reset_index()\n",
    "\n",
    "nissan = df.loc[df['Make'] == \"NISSAN\"]\n",
    "nissan_summary = nissan['Model'].value_counts().to_frame(name='Count').reset_index()"
   ]
  },
  {
   "cell_type": "code",
   "execution_count": 12,
   "id": "052bcbbf-24bd-4498-be29-3c28c95ecade",
   "metadata": {},
   "outputs": [],
   "source": [
    "# Now lets visualize the top models for Tesla, Chevrolet, and Nissan in a pie chart\n",
    "tesla_chart = alt.Chart(tesla_summary).mark_arc().encode(\n",
    "    theta = 'Count',\n",
    "    color = alt.Color('Model', scale = alt.Scale(scheme = categorical), legend=alt.Legend(orient='left')), \n",
    "    tooltip=['Model:N','Count:Q',alt.Tooltip('percentage:Q', format='.1%', title='Percentage')] # Add the formatted percentage to the tooltip\n",
    ").transform_joinaggregate(\n",
    "    total='sum(Count)' # Calculate total sum of 'Count'\n",
    ").transform_calculate(\n",
    "    percentage='datum.Count / datum.total' # Calculate percentage for each slice\n",
    ").properties(title = 'Top Tesla EV Models')\n",
    "\n",
    "chevy_chart = alt.Chart(chevy_summary).mark_arc().encode(\n",
    "    theta = 'Count',\n",
    "    color = alt.Color('Model', scale = alt.Scale(scheme = categorical), legend=alt.Legend(orient='left')), \n",
    "    tooltip=['Model:N','Count:Q',alt.Tooltip('percentage:Q', format='.1%', title='Percentage')] # Add the formatted percentage to the tooltip\n",
    ").transform_joinaggregate(\n",
    "    total='sum(Count)' # Calculate total sum of 'Count'\n",
    ").transform_calculate(\n",
    "    percentage='datum.Count / datum.total' # Calculate percentage for each slice\n",
    ").properties(title = 'Top Chevrolet EV Models')\n",
    "\n",
    "nissan_chart = alt.Chart(nissan_summary).mark_arc().encode(\n",
    "    theta = 'Count',\n",
    "    color = alt.Color('Model', scale = alt.Scale(scheme = categorical), legend=alt.Legend(orient='left')), \n",
    "    tooltip=['Model:N','Count:Q',alt.Tooltip('percentage:Q', format='.1%', title='Percentage')] # Add the formatted percentage to the tooltip\n",
    ").transform_joinaggregate(\n",
    "    total='sum(Count)' # Calculate total sum of 'Count'\n",
    ").transform_calculate(\n",
    "    percentage='datum.Count / datum.total' # Calculate percentage for each slice\n",
    ").properties(title = 'Top Nissan EV Models')"
   ]
  },
  {
   "cell_type": "code",
   "execution_count": 13,
   "id": "18479a4f-a6d5-48c3-9e84-c99c71e80194",
   "metadata": {},
   "outputs": [
    {
     "data": {
      "text/html": [
       "\n",
       "<style>\n",
       "  #altair-viz-3b5a2cdd3dfe48289fc18119d54b0f2b.vega-embed {\n",
       "    width: 100%;\n",
       "    display: flex;\n",
       "  }\n",
       "\n",
       "  #altair-viz-3b5a2cdd3dfe48289fc18119d54b0f2b.vega-embed details,\n",
       "  #altair-viz-3b5a2cdd3dfe48289fc18119d54b0f2b.vega-embed details summary {\n",
       "    position: relative;\n",
       "  }\n",
       "</style>\n",
       "<div id=\"altair-viz-3b5a2cdd3dfe48289fc18119d54b0f2b\"></div>\n",
       "<script type=\"text/javascript\">\n",
       "  var VEGA_DEBUG = (typeof VEGA_DEBUG == \"undefined\") ? {} : VEGA_DEBUG;\n",
       "  (function(spec, embedOpt){\n",
       "    let outputDiv = document.currentScript.previousElementSibling;\n",
       "    if (outputDiv.id !== \"altair-viz-3b5a2cdd3dfe48289fc18119d54b0f2b\") {\n",
       "      outputDiv = document.getElementById(\"altair-viz-3b5a2cdd3dfe48289fc18119d54b0f2b\");\n",
       "    }\n",
       "\n",
       "    const paths = {\n",
       "      \"vega\": \"https://cdn.jsdelivr.net/npm/vega@5?noext\",\n",
       "      \"vega-lib\": \"https://cdn.jsdelivr.net/npm/vega-lib?noext\",\n",
       "      \"vega-lite\": \"https://cdn.jsdelivr.net/npm/vega-lite@5.20.1?noext\",\n",
       "      \"vega-embed\": \"https://cdn.jsdelivr.net/npm/vega-embed@6?noext\",\n",
       "    };\n",
       "\n",
       "    function maybeLoadScript(lib, version) {\n",
       "      var key = `${lib.replace(\"-\", \"\")}_version`;\n",
       "      return (VEGA_DEBUG[key] == version) ?\n",
       "        Promise.resolve(paths[lib]) :\n",
       "        new Promise(function(resolve, reject) {\n",
       "          var s = document.createElement('script');\n",
       "          document.getElementsByTagName(\"head\")[0].appendChild(s);\n",
       "          s.async = true;\n",
       "          s.onload = () => {\n",
       "            VEGA_DEBUG[key] = version;\n",
       "            return resolve(paths[lib]);\n",
       "          };\n",
       "          s.onerror = () => reject(`Error loading script: ${paths[lib]}`);\n",
       "          s.src = paths[lib];\n",
       "        });\n",
       "    }\n",
       "\n",
       "    function showError(err) {\n",
       "      outputDiv.innerHTML = `<div class=\"error\" style=\"color:red;\">${err}</div>`;\n",
       "      throw err;\n",
       "    }\n",
       "\n",
       "    function displayChart(vegaEmbed) {\n",
       "      vegaEmbed(outputDiv, spec, embedOpt)\n",
       "        .catch(err => showError(`Javascript Error: ${err.message}<br>This usually means there's a typo in your chart specification. See the javascript console for the full traceback.`));\n",
       "    }\n",
       "\n",
       "    if(typeof define === \"function\" && define.amd) {\n",
       "      requirejs.config({paths});\n",
       "      let deps = [\"vega-embed\"];\n",
       "      require(deps, displayChart, err => showError(`Error loading script: ${err.message}`));\n",
       "    } else {\n",
       "      maybeLoadScript(\"vega\", \"5\")\n",
       "        .then(() => maybeLoadScript(\"vega-lite\", \"5.20.1\"))\n",
       "        .then(() => maybeLoadScript(\"vega-embed\", \"6\"))\n",
       "        .catch(showError)\n",
       "        .then(() => displayChart(vegaEmbed));\n",
       "    }\n",
       "  })({\"config\": {\"view\": {\"continuousWidth\": 300, \"continuousHeight\": 300}}, \"hconcat\": [{\"data\": {\"name\": \"data-95ab7e0c6d761dc43be0cb9623990385\"}, \"mark\": {\"type\": \"arc\"}, \"encoding\": {\"color\": {\"field\": \"Model\", \"legend\": {\"orient\": \"left\"}, \"scale\": {\"scheme\": \"set2\"}, \"type\": \"nominal\"}, \"theta\": {\"field\": \"Count\", \"type\": \"quantitative\"}, \"tooltip\": [{\"field\": \"Model\", \"type\": \"nominal\"}, {\"field\": \"Count\", \"type\": \"quantitative\"}, {\"field\": \"percentage\", \"format\": \".1%\", \"title\": \"Percentage\", \"type\": \"quantitative\"}]}, \"title\": \"Top Tesla EV Models\", \"transform\": [{\"joinaggregate\": [{\"op\": \"sum\", \"field\": \"Count\", \"as\": \"total\"}]}, {\"calculate\": \"datum.Count / datum.total\", \"as\": \"percentage\"}]}, {\"data\": {\"name\": \"data-10422ed854002d9159a7aee549b3f6ad\"}, \"mark\": {\"type\": \"arc\"}, \"encoding\": {\"color\": {\"field\": \"Model\", \"legend\": {\"orient\": \"left\"}, \"scale\": {\"scheme\": \"set2\"}, \"type\": \"nominal\"}, \"theta\": {\"field\": \"Count\", \"type\": \"quantitative\"}, \"tooltip\": [{\"field\": \"Model\", \"type\": \"nominal\"}, {\"field\": \"Count\", \"type\": \"quantitative\"}, {\"field\": \"percentage\", \"format\": \".1%\", \"title\": \"Percentage\", \"type\": \"quantitative\"}]}, \"title\": \"Top Chevrolet EV Models\", \"transform\": [{\"joinaggregate\": [{\"op\": \"sum\", \"field\": \"Count\", \"as\": \"total\"}]}, {\"calculate\": \"datum.Count / datum.total\", \"as\": \"percentage\"}]}, {\"data\": {\"name\": \"data-bc7f52bb6c71d1d82cfe2faa71eb4839\"}, \"mark\": {\"type\": \"arc\"}, \"encoding\": {\"color\": {\"field\": \"Model\", \"legend\": {\"orient\": \"left\"}, \"scale\": {\"scheme\": \"set2\"}, \"type\": \"nominal\"}, \"theta\": {\"field\": \"Count\", \"type\": \"quantitative\"}, \"tooltip\": [{\"field\": \"Model\", \"type\": \"nominal\"}, {\"field\": \"Count\", \"type\": \"quantitative\"}, {\"field\": \"percentage\", \"format\": \".1%\", \"title\": \"Percentage\", \"type\": \"quantitative\"}]}, \"title\": \"Top Nissan EV Models\", \"transform\": [{\"joinaggregate\": [{\"op\": \"sum\", \"field\": \"Count\", \"as\": \"total\"}]}, {\"calculate\": \"datum.Count / datum.total\", \"as\": \"percentage\"}]}], \"resolve\": {\"scale\": {\"color\": \"independent\"}}, \"$schema\": \"https://vega.github.io/schema/vega-lite/v5.20.1.json\", \"datasets\": {\"data-95ab7e0c6d761dc43be0cb9623990385\": [{\"Model\": \"MODEL Y\", \"Count\": 53560}, {\"Model\": \"MODEL 3\", \"Count\": 37807}, {\"Model\": \"MODEL S\", \"Count\": 7911}, {\"Model\": \"MODEL X\", \"Count\": 6713}, {\"Model\": \"CYBERTRUCK\", \"Count\": 1496}, {\"Model\": \"ROADSTER\", \"Count\": 48}], \"data-10422ed854002d9159a7aee549b3f6ad\": [{\"Model\": \"BOLT EV\", \"Count\": 7812}, {\"Model\": \"VOLT\", \"Count\": 4634}, {\"Model\": \"BOLT EUV\", \"Count\": 2906}, {\"Model\": \"EQUINOX\", \"Count\": 1367}, {\"Model\": \"BLAZER\", \"Count\": 1208}, {\"Model\": \"SILVERADO\", \"Count\": 435}, {\"Model\": \"SPARK\", \"Count\": 226}, {\"Model\": \"BRIGHTDROP\", \"Count\": 14}], \"data-bc7f52bb6c71d1d82cfe2faa71eb4839\": [{\"Model\": \"LEAF\", \"Count\": 13971}, {\"Model\": \"ARIYA\", \"Count\": 2303}]}}, {\"mode\": \"vega-lite\"});\n",
       "</script>"
      ],
      "text/plain": [
       "alt.HConcatChart(...)"
      ]
     },
     "execution_count": 13,
     "metadata": {},
     "output_type": "execute_result"
    }
   ],
   "source": [
    "# We can combine all three pie charts into a single plot using hconcat. Hovering over each section of the pie will show the model name, count, and relative percentage\n",
    "alt.hconcat(tesla_chart, chevy_chart, nissan_chart).resolve_scale(color='independent')"
   ]
  },
  {
   "cell_type": "code",
   "execution_count": 14,
   "id": "e2a84328-c17a-4a83-89dd-94fe084fd04a",
   "metadata": {},
   "outputs": [],
   "source": [
    "# Now lets visualize the same data but in a bar chart\n",
    "tesla_bar = alt.Chart(tesla_summary).transform_joinaggregate(\n",
    "    TotalTeslas='sum(Count)',\n",
    ").transform_calculate(\n",
    "    PercentOfTeslass=\"datum.Count / datum.TotalTeslas\"\n",
    ").mark_bar().encode(\n",
    "    alt.X('PercentOfTeslass:Q').axis(format='.0%', title = 'Tesla Models'), \n",
    "    color = alt.Color('Model', scale = alt.Scale(scheme = categorical), legend=alt.Legend(orient='left')), \n",
    "    tooltip = ['Model', alt.Tooltip('PercentOfTeslass:Q', format='.1%', title='Percentage')]\n",
    ")\n",
    "\n",
    "nissan_bar = alt.Chart(nissan_summary).transform_joinaggregate(\n",
    "    TotalTeslas='sum(Count)',\n",
    ").transform_calculate(\n",
    "    PercentOfTeslass=\"datum.Count / datum.TotalTeslas\"\n",
    ").mark_bar().encode(\n",
    "    alt.X('PercentOfTeslass:Q').axis(format='.0%', title = 'Nissan Models'), \n",
    "    color = alt.Color('Model', scale = alt.Scale(scheme = categorical), legend=alt.Legend(orient='left')), \n",
    "    tooltip = ['Model', alt.Tooltip('PercentOfTeslass:Q', format='.1%', title='Percentage')]\n",
    ")\n",
    "\n",
    "chevy_bar = alt.Chart(chevy_summary).transform_joinaggregate(\n",
    "    TotalTeslas='sum(Count)',\n",
    ").transform_calculate(\n",
    "    PercentOfTeslass=\"datum.Count / datum.TotalTeslas\"\n",
    ").mark_bar().encode(\n",
    "    alt.X('PercentOfTeslass:Q').axis(format='.0%', title = 'Chevy Models'), \n",
    "    color = alt.Color('Model', scale = alt.Scale(scheme = categorical), legend=alt.Legend(orient='left')), \n",
    "    tooltip = ['Model', alt.Tooltip('PercentOfTeslass:Q', format='.1%', title='Percentage')]\n",
    ")"
   ]
  },
  {
   "cell_type": "code",
   "execution_count": 15,
   "id": "da3c1e4f-ae60-4e55-9b41-f2f88fd4bd25",
   "metadata": {},
   "outputs": [
    {
     "data": {
      "text/html": [
       "\n",
       "<style>\n",
       "  #altair-viz-03f9b64efb87411c82e6aaa8435aaab0.vega-embed {\n",
       "    width: 100%;\n",
       "    display: flex;\n",
       "  }\n",
       "\n",
       "  #altair-viz-03f9b64efb87411c82e6aaa8435aaab0.vega-embed details,\n",
       "  #altair-viz-03f9b64efb87411c82e6aaa8435aaab0.vega-embed details summary {\n",
       "    position: relative;\n",
       "  }\n",
       "</style>\n",
       "<div id=\"altair-viz-03f9b64efb87411c82e6aaa8435aaab0\"></div>\n",
       "<script type=\"text/javascript\">\n",
       "  var VEGA_DEBUG = (typeof VEGA_DEBUG == \"undefined\") ? {} : VEGA_DEBUG;\n",
       "  (function(spec, embedOpt){\n",
       "    let outputDiv = document.currentScript.previousElementSibling;\n",
       "    if (outputDiv.id !== \"altair-viz-03f9b64efb87411c82e6aaa8435aaab0\") {\n",
       "      outputDiv = document.getElementById(\"altair-viz-03f9b64efb87411c82e6aaa8435aaab0\");\n",
       "    }\n",
       "\n",
       "    const paths = {\n",
       "      \"vega\": \"https://cdn.jsdelivr.net/npm/vega@5?noext\",\n",
       "      \"vega-lib\": \"https://cdn.jsdelivr.net/npm/vega-lib?noext\",\n",
       "      \"vega-lite\": \"https://cdn.jsdelivr.net/npm/vega-lite@5.20.1?noext\",\n",
       "      \"vega-embed\": \"https://cdn.jsdelivr.net/npm/vega-embed@6?noext\",\n",
       "    };\n",
       "\n",
       "    function maybeLoadScript(lib, version) {\n",
       "      var key = `${lib.replace(\"-\", \"\")}_version`;\n",
       "      return (VEGA_DEBUG[key] == version) ?\n",
       "        Promise.resolve(paths[lib]) :\n",
       "        new Promise(function(resolve, reject) {\n",
       "          var s = document.createElement('script');\n",
       "          document.getElementsByTagName(\"head\")[0].appendChild(s);\n",
       "          s.async = true;\n",
       "          s.onload = () => {\n",
       "            VEGA_DEBUG[key] = version;\n",
       "            return resolve(paths[lib]);\n",
       "          };\n",
       "          s.onerror = () => reject(`Error loading script: ${paths[lib]}`);\n",
       "          s.src = paths[lib];\n",
       "        });\n",
       "    }\n",
       "\n",
       "    function showError(err) {\n",
       "      outputDiv.innerHTML = `<div class=\"error\" style=\"color:red;\">${err}</div>`;\n",
       "      throw err;\n",
       "    }\n",
       "\n",
       "    function displayChart(vegaEmbed) {\n",
       "      vegaEmbed(outputDiv, spec, embedOpt)\n",
       "        .catch(err => showError(`Javascript Error: ${err.message}<br>This usually means there's a typo in your chart specification. See the javascript console for the full traceback.`));\n",
       "    }\n",
       "\n",
       "    if(typeof define === \"function\" && define.amd) {\n",
       "      requirejs.config({paths});\n",
       "      let deps = [\"vega-embed\"];\n",
       "      require(deps, displayChart, err => showError(`Error loading script: ${err.message}`));\n",
       "    } else {\n",
       "      maybeLoadScript(\"vega\", \"5\")\n",
       "        .then(() => maybeLoadScript(\"vega-lite\", \"5.20.1\"))\n",
       "        .then(() => maybeLoadScript(\"vega-embed\", \"6\"))\n",
       "        .catch(showError)\n",
       "        .then(() => displayChart(vegaEmbed));\n",
       "    }\n",
       "  })({\"config\": {\"view\": {\"continuousWidth\": 300, \"continuousHeight\": 300}}, \"hconcat\": [{\"data\": {\"name\": \"data-95ab7e0c6d761dc43be0cb9623990385\"}, \"mark\": {\"type\": \"bar\"}, \"encoding\": {\"color\": {\"field\": \"Model\", \"legend\": {\"orient\": \"left\"}, \"scale\": {\"scheme\": \"set2\"}, \"type\": \"nominal\"}, \"tooltip\": [{\"field\": \"Model\", \"type\": \"nominal\"}, {\"field\": \"PercentOfTeslass\", \"format\": \".1%\", \"title\": \"Percentage\", \"type\": \"quantitative\"}], \"x\": {\"axis\": {\"format\": \".0%\", \"title\": \"Tesla Models\"}, \"field\": \"PercentOfTeslass\", \"type\": \"quantitative\"}}, \"transform\": [{\"joinaggregate\": [{\"op\": \"sum\", \"field\": \"Count\", \"as\": \"TotalTeslas\"}]}, {\"calculate\": \"datum.Count / datum.TotalTeslas\", \"as\": \"PercentOfTeslass\"}]}, {\"data\": {\"name\": \"data-10422ed854002d9159a7aee549b3f6ad\"}, \"mark\": {\"type\": \"bar\"}, \"encoding\": {\"color\": {\"field\": \"Model\", \"legend\": {\"orient\": \"left\"}, \"scale\": {\"scheme\": \"set2\"}, \"type\": \"nominal\"}, \"tooltip\": [{\"field\": \"Model\", \"type\": \"nominal\"}, {\"field\": \"PercentOfTeslass\", \"format\": \".1%\", \"title\": \"Percentage\", \"type\": \"quantitative\"}], \"x\": {\"axis\": {\"format\": \".0%\", \"title\": \"Chevy Models\"}, \"field\": \"PercentOfTeslass\", \"type\": \"quantitative\"}}, \"transform\": [{\"joinaggregate\": [{\"op\": \"sum\", \"field\": \"Count\", \"as\": \"TotalTeslas\"}]}, {\"calculate\": \"datum.Count / datum.TotalTeslas\", \"as\": \"PercentOfTeslass\"}]}, {\"data\": {\"name\": \"data-bc7f52bb6c71d1d82cfe2faa71eb4839\"}, \"mark\": {\"type\": \"bar\"}, \"encoding\": {\"color\": {\"field\": \"Model\", \"legend\": {\"orient\": \"left\"}, \"scale\": {\"scheme\": \"set2\"}, \"type\": \"nominal\"}, \"tooltip\": [{\"field\": \"Model\", \"type\": \"nominal\"}, {\"field\": \"PercentOfTeslass\", \"format\": \".1%\", \"title\": \"Percentage\", \"type\": \"quantitative\"}], \"x\": {\"axis\": {\"format\": \".0%\", \"title\": \"Nissan Models\"}, \"field\": \"PercentOfTeslass\", \"type\": \"quantitative\"}}, \"transform\": [{\"joinaggregate\": [{\"op\": \"sum\", \"field\": \"Count\", \"as\": \"TotalTeslas\"}]}, {\"calculate\": \"datum.Count / datum.TotalTeslas\", \"as\": \"PercentOfTeslass\"}]}], \"resolve\": {\"scale\": {\"color\": \"independent\"}}, \"$schema\": \"https://vega.github.io/schema/vega-lite/v5.20.1.json\", \"datasets\": {\"data-95ab7e0c6d761dc43be0cb9623990385\": [{\"Model\": \"MODEL Y\", \"Count\": 53560}, {\"Model\": \"MODEL 3\", \"Count\": 37807}, {\"Model\": \"MODEL S\", \"Count\": 7911}, {\"Model\": \"MODEL X\", \"Count\": 6713}, {\"Model\": \"CYBERTRUCK\", \"Count\": 1496}, {\"Model\": \"ROADSTER\", \"Count\": 48}], \"data-10422ed854002d9159a7aee549b3f6ad\": [{\"Model\": \"BOLT EV\", \"Count\": 7812}, {\"Model\": \"VOLT\", \"Count\": 4634}, {\"Model\": \"BOLT EUV\", \"Count\": 2906}, {\"Model\": \"EQUINOX\", \"Count\": 1367}, {\"Model\": \"BLAZER\", \"Count\": 1208}, {\"Model\": \"SILVERADO\", \"Count\": 435}, {\"Model\": \"SPARK\", \"Count\": 226}, {\"Model\": \"BRIGHTDROP\", \"Count\": 14}], \"data-bc7f52bb6c71d1d82cfe2faa71eb4839\": [{\"Model\": \"LEAF\", \"Count\": 13971}, {\"Model\": \"ARIYA\", \"Count\": 2303}]}}, {\"mode\": \"vega-lite\"});\n",
       "</script>"
      ],
      "text/plain": [
       "alt.HConcatChart(...)"
      ]
     },
     "execution_count": 15,
     "metadata": {},
     "output_type": "execute_result"
    }
   ],
   "source": [
    "# Again, we can combine these plots and look at them side by side. Hovering over the bar will show the model name and percentage. \n",
    "alt.hconcat(tesla_bar, chevy_bar, nissan_bar).resolve_scale(color='independent')"
   ]
  },
  {
   "cell_type": "markdown",
   "id": "1cf9cd0b-fafe-4fc2-8a22-f497fc26a359",
   "metadata": {},
   "source": [
    "As you can see, the top models for Tesla are the Model Y and the Model 3. The top models for Chevrolet are the Bolt EV and the Volt, and the top Nissan model is the Leaf. Finally, lets look at the top models regardless of brand. "
   ]
  },
  {
   "cell_type": "code",
   "execution_count": 16,
   "id": "b3eddfce-3761-45ae-91a7-258eeb1c876d",
   "metadata": {
    "scrolled": true
   },
   "outputs": [
    {
     "data": {
      "text/plain": [
       "Model\n",
       "MODEL Y        53560\n",
       "MODEL 3        37807\n",
       "LEAF           13971\n",
       "MODEL S         7911\n",
       "BOLT EV         7812\n",
       "               ...  \n",
       "VF 8               2\n",
       "S6                 2\n",
       "SL-CLASS           2\n",
       "RCV                1\n",
       "CONTINENTAL        1\n",
       "Name: count, Length: 179, dtype: int64"
      ]
     },
     "execution_count": 16,
     "metadata": {},
     "output_type": "execute_result"
    }
   ],
   "source": [
    "## Summarize EVS by model name\n",
    "df['Model'].value_counts()"
   ]
  },
  {
   "cell_type": "code",
   "execution_count": 17,
   "id": "4285e8e1-2a4b-476d-a31e-b4e96992b98f",
   "metadata": {},
   "outputs": [
    {
     "data": {
      "text/plain": [
       "Top_Models\n",
       "Other      136574\n",
       "MODEL Y     53560\n",
       "MODEL 3     37807\n",
       "LEAF        13971\n",
       "MODEL S      7911\n",
       "BOLT EV      7812\n",
       "Name: count, dtype: int64"
      ]
     },
     "execution_count": 17,
     "metadata": {},
     "output_type": "execute_result"
    }
   ],
   "source": [
    "## Lets look at the top 5 models, and put everything else in an \"other\" category\n",
    "top_5_models = df['Model'].value_counts().nlargest(5)\n",
    "df['Top_Models'] = df['Model']\n",
    "df['Top_Models'] = df['Top_Models'].apply(lambda x: x if x in top_5_models else 'Other')\n",
    "df['Top_Models'].value_counts()"
   ]
  },
  {
   "cell_type": "code",
   "execution_count": 18,
   "id": "01aec243-6885-4238-8d14-e27b2191e8cd",
   "metadata": {},
   "outputs": [],
   "source": [
    "# Create a summary df so visualizations render quicker\n",
    "model_summary = df['Top_Models'].value_counts().to_frame(name='Count').reset_index()"
   ]
  },
  {
   "cell_type": "code",
   "execution_count": 19,
   "id": "09e67ee2-8222-454c-921b-105b9fb041b1",
   "metadata": {},
   "outputs": [
    {
     "data": {
      "text/plain": [
       "Index(['Top_Models', 'Count'], dtype='object')"
      ]
     },
     "execution_count": 19,
     "metadata": {},
     "output_type": "execute_result"
    }
   ],
   "source": [
    "model_summary.columns"
   ]
  },
  {
   "cell_type": "code",
   "execution_count": 20,
   "id": "7b68da4b-54fe-4b4b-bbe9-97819eff518c",
   "metadata": {},
   "outputs": [
    {
     "data": {
      "text/html": [
       "\n",
       "<style>\n",
       "  #altair-viz-256c4d128818439bb8abd4fdbc624e19.vega-embed {\n",
       "    width: 100%;\n",
       "    display: flex;\n",
       "  }\n",
       "\n",
       "  #altair-viz-256c4d128818439bb8abd4fdbc624e19.vega-embed details,\n",
       "  #altair-viz-256c4d128818439bb8abd4fdbc624e19.vega-embed details summary {\n",
       "    position: relative;\n",
       "  }\n",
       "</style>\n",
       "<div id=\"altair-viz-256c4d128818439bb8abd4fdbc624e19\"></div>\n",
       "<script type=\"text/javascript\">\n",
       "  var VEGA_DEBUG = (typeof VEGA_DEBUG == \"undefined\") ? {} : VEGA_DEBUG;\n",
       "  (function(spec, embedOpt){\n",
       "    let outputDiv = document.currentScript.previousElementSibling;\n",
       "    if (outputDiv.id !== \"altair-viz-256c4d128818439bb8abd4fdbc624e19\") {\n",
       "      outputDiv = document.getElementById(\"altair-viz-256c4d128818439bb8abd4fdbc624e19\");\n",
       "    }\n",
       "\n",
       "    const paths = {\n",
       "      \"vega\": \"https://cdn.jsdelivr.net/npm/vega@5?noext\",\n",
       "      \"vega-lib\": \"https://cdn.jsdelivr.net/npm/vega-lib?noext\",\n",
       "      \"vega-lite\": \"https://cdn.jsdelivr.net/npm/vega-lite@5.20.1?noext\",\n",
       "      \"vega-embed\": \"https://cdn.jsdelivr.net/npm/vega-embed@6?noext\",\n",
       "    };\n",
       "\n",
       "    function maybeLoadScript(lib, version) {\n",
       "      var key = `${lib.replace(\"-\", \"\")}_version`;\n",
       "      return (VEGA_DEBUG[key] == version) ?\n",
       "        Promise.resolve(paths[lib]) :\n",
       "        new Promise(function(resolve, reject) {\n",
       "          var s = document.createElement('script');\n",
       "          document.getElementsByTagName(\"head\")[0].appendChild(s);\n",
       "          s.async = true;\n",
       "          s.onload = () => {\n",
       "            VEGA_DEBUG[key] = version;\n",
       "            return resolve(paths[lib]);\n",
       "          };\n",
       "          s.onerror = () => reject(`Error loading script: ${paths[lib]}`);\n",
       "          s.src = paths[lib];\n",
       "        });\n",
       "    }\n",
       "\n",
       "    function showError(err) {\n",
       "      outputDiv.innerHTML = `<div class=\"error\" style=\"color:red;\">${err}</div>`;\n",
       "      throw err;\n",
       "    }\n",
       "\n",
       "    function displayChart(vegaEmbed) {\n",
       "      vegaEmbed(outputDiv, spec, embedOpt)\n",
       "        .catch(err => showError(`Javascript Error: ${err.message}<br>This usually means there's a typo in your chart specification. See the javascript console for the full traceback.`));\n",
       "    }\n",
       "\n",
       "    if(typeof define === \"function\" && define.amd) {\n",
       "      requirejs.config({paths});\n",
       "      let deps = [\"vega-embed\"];\n",
       "      require(deps, displayChart, err => showError(`Error loading script: ${err.message}`));\n",
       "    } else {\n",
       "      maybeLoadScript(\"vega\", \"5\")\n",
       "        .then(() => maybeLoadScript(\"vega-lite\", \"5.20.1\"))\n",
       "        .then(() => maybeLoadScript(\"vega-embed\", \"6\"))\n",
       "        .catch(showError)\n",
       "        .then(() => displayChart(vegaEmbed));\n",
       "    }\n",
       "  })({\"config\": {\"view\": {\"continuousWidth\": 300, \"continuousHeight\": 300}}, \"data\": {\"name\": \"data-28f8fb4306a59c780b5780a3141604e4\"}, \"mark\": {\"type\": \"arc\"}, \"encoding\": {\"color\": {\"field\": \"Top_Models\", \"legend\": {\"orient\": \"right\", \"title\": \"Model\"}, \"scale\": {\"scheme\": \"set2\"}, \"type\": \"nominal\"}, \"theta\": {\"field\": \"Count\", \"type\": \"quantitative\"}, \"tooltip\": [{\"field\": \"Top_Models\", \"type\": \"nominal\"}, {\"field\": \"Count\", \"type\": \"quantitative\"}, {\"field\": \"percentage\", \"format\": \".1%\", \"title\": \"Percentage\", \"type\": \"quantitative\"}]}, \"title\": \"Top EV Models in WA\", \"transform\": [{\"joinaggregate\": [{\"op\": \"sum\", \"field\": \"Count\", \"as\": \"total\"}]}, {\"calculate\": \"datum.Count / datum.total\", \"as\": \"percentage\"}], \"$schema\": \"https://vega.github.io/schema/vega-lite/v5.20.1.json\", \"datasets\": {\"data-28f8fb4306a59c780b5780a3141604e4\": [{\"Top_Models\": \"Other\", \"Count\": 136574}, {\"Top_Models\": \"MODEL Y\", \"Count\": 53560}, {\"Top_Models\": \"MODEL 3\", \"Count\": 37807}, {\"Top_Models\": \"LEAF\", \"Count\": 13971}, {\"Top_Models\": \"MODEL S\", \"Count\": 7911}, {\"Top_Models\": \"BOLT EV\", \"Count\": 7812}]}}, {\"mode\": \"vega-lite\"});\n",
       "</script>"
      ],
      "text/plain": [
       "alt.Chart(...)"
      ]
     },
     "execution_count": 20,
     "metadata": {},
     "output_type": "execute_result"
    }
   ],
   "source": [
    "# Now we can visualize the top models\n",
    "alt.Chart(model_summary).mark_arc().encode(\n",
    "    theta = 'Count',\n",
    "    color = alt.Color('Top_Models', scale = alt.Scale(scheme = categorical), legend = alt.Legend(orient = 'right', title = 'Model')), \n",
    "    tooltip = ['Top_Models:N','Count:Q',alt.Tooltip('percentage:Q', format = '.1%', title = 'Percentage')] # Add the formatted percentage to the tooltip\n",
    ").transform_joinaggregate(\n",
    "    total = 'sum(Count)' # Calculate total sum of 'Count'\n",
    ").transform_calculate(\n",
    "    percentage = 'datum.Count / datum.total' # Calculate percentage for each slice\n",
    ").properties(title=\"Top EV Models in WA\")"
   ]
  },
  {
   "cell_type": "markdown",
   "id": "2ae039a4-71d7-43b0-bed7-399ad65c5b21",
   "metadata": {},
   "source": [
    "## **Question 3: Which Washington state counties have the most EVs?**"
   ]
  },
  {
   "cell_type": "code",
   "execution_count": 21,
   "id": "0c87c4cb-2b8a-43a4-9a26-756e978b84cf",
   "metadata": {},
   "outputs": [],
   "source": [
    "# summarize EV count by county\n",
    "# vehicles registered in WA may reside outside of WA, but for the purposes of this analysis, I only want to look at vehicles located in WA\n",
    "county_summary = df[df['State'] == 'WA']\n",
    "county_summary = county_summary['County'].value_counts().to_frame(name='Count').reset_index()"
   ]
  },
  {
   "cell_type": "markdown",
   "id": "ebc6f32e-1bba-4d92-bfb3-aea3c7a25c6f",
   "metadata": {},
   "source": [
    "As you can see, most EVs are registered in King, Snohomish, and Pierce counties. Let's visualize the number of EVs in each county on a map of Washington state. "
   ]
  },
  {
   "cell_type": "code",
   "execution_count": 22,
   "id": "194fa5c2-778a-4588-bfa1-b69b82c9ad77",
   "metadata": {},
   "outputs": [],
   "source": [
    "# First we need to pull in a map of the US counties from the vega datasets\n",
    "# Citation: I used ChatGPT to learn out to how to pull in a map of all US counties\n",
    "counties = alt.topo_feature(data.us_10m.url, 'counties')"
   ]
  },
  {
   "cell_type": "code",
   "execution_count": 23,
   "id": "a8c45427-44a8-4711-ad28-263576fa1e13",
   "metadata": {},
   "outputs": [
    {
     "data": {
      "text/html": [
       "<div>\n",
       "<style scoped>\n",
       "    .dataframe tbody tr th:only-of-type {\n",
       "        vertical-align: middle;\n",
       "    }\n",
       "\n",
       "    .dataframe tbody tr th {\n",
       "        vertical-align: top;\n",
       "    }\n",
       "\n",
       "    .dataframe thead th {\n",
       "        text-align: right;\n",
       "    }\n",
       "</style>\n",
       "<table border=\"1\" class=\"dataframe\">\n",
       "  <thead>\n",
       "    <tr style=\"text-align: right;\">\n",
       "      <th></th>\n",
       "      <th>FIPS State Code</th>\n",
       "      <th>FIPS County Code</th>\n",
       "      <th>FIPS Code</th>\n",
       "      <th>County Name</th>\n",
       "    </tr>\n",
       "  </thead>\n",
       "  <tbody>\n",
       "    <tr>\n",
       "      <th>0</th>\n",
       "      <td>53</td>\n",
       "      <td>1</td>\n",
       "      <td>53001</td>\n",
       "      <td>Adams</td>\n",
       "    </tr>\n",
       "    <tr>\n",
       "      <th>1</th>\n",
       "      <td>53</td>\n",
       "      <td>3</td>\n",
       "      <td>53003</td>\n",
       "      <td>Asotin</td>\n",
       "    </tr>\n",
       "    <tr>\n",
       "      <th>2</th>\n",
       "      <td>53</td>\n",
       "      <td>5</td>\n",
       "      <td>53005</td>\n",
       "      <td>Benton</td>\n",
       "    </tr>\n",
       "    <tr>\n",
       "      <th>3</th>\n",
       "      <td>53</td>\n",
       "      <td>7</td>\n",
       "      <td>53007</td>\n",
       "      <td>Chelan</td>\n",
       "    </tr>\n",
       "    <tr>\n",
       "      <th>4</th>\n",
       "      <td>53</td>\n",
       "      <td>9</td>\n",
       "      <td>53009</td>\n",
       "      <td>Clallam</td>\n",
       "    </tr>\n",
       "  </tbody>\n",
       "</table>\n",
       "</div>"
      ],
      "text/plain": [
       "   FIPS State Code  FIPS County Code  FIPS Code County Name\n",
       "0               53                 1      53001       Adams\n",
       "1               53                 3      53003      Asotin\n",
       "2               53                 5      53005      Benton\n",
       "3               53                 7      53007      Chelan\n",
       "4               53                 9      53009     Clallam"
      ]
     },
     "execution_count": 23,
     "metadata": {},
     "output_type": "execute_result"
    }
   ],
   "source": [
    "# The TopoJSON maps counties by FIPS code, whereas the EV dataset refers to county by name. \n",
    "# I found a list of all the WA state counties and their FIPS code here: https://unicede.air-worldwide.com/unicede/unicede_washington_fips.html\n",
    "# Then I created a csv file with the state code, county code, combined code, and county name\n",
    "FIPS_codes = pd.read_csv('WA_FIPS.csv')\n",
    "FIPS_codes.head()"
   ]
  },
  {
   "cell_type": "code",
   "execution_count": 24,
   "id": "0d7f75f7-f6b8-4f5a-beac-9fee47e70d58",
   "metadata": {},
   "outputs": [],
   "source": [
    "# Now we can pull in the FIPS Code and add it to the EV dataset\n",
    "county_summary['FIPS Code'] = county_summary['County'].map(FIPS_codes.set_index(\"County Name\")[\"FIPS Code\"])"
   ]
  },
  {
   "cell_type": "code",
   "execution_count": 25,
   "id": "b71a01e8-3f65-4ae3-8ff8-d3dfea61e71e",
   "metadata": {},
   "outputs": [
    {
     "data": {
      "text/html": [
       "\n",
       "<style>\n",
       "  #altair-viz-f25c55730ed74048818da21aa974e116.vega-embed {\n",
       "    width: 100%;\n",
       "    display: flex;\n",
       "  }\n",
       "\n",
       "  #altair-viz-f25c55730ed74048818da21aa974e116.vega-embed details,\n",
       "  #altair-viz-f25c55730ed74048818da21aa974e116.vega-embed details summary {\n",
       "    position: relative;\n",
       "  }\n",
       "</style>\n",
       "<div id=\"altair-viz-f25c55730ed74048818da21aa974e116\"></div>\n",
       "<script type=\"text/javascript\">\n",
       "  var VEGA_DEBUG = (typeof VEGA_DEBUG == \"undefined\") ? {} : VEGA_DEBUG;\n",
       "  (function(spec, embedOpt){\n",
       "    let outputDiv = document.currentScript.previousElementSibling;\n",
       "    if (outputDiv.id !== \"altair-viz-f25c55730ed74048818da21aa974e116\") {\n",
       "      outputDiv = document.getElementById(\"altair-viz-f25c55730ed74048818da21aa974e116\");\n",
       "    }\n",
       "\n",
       "    const paths = {\n",
       "      \"vega\": \"https://cdn.jsdelivr.net/npm/vega@5?noext\",\n",
       "      \"vega-lib\": \"https://cdn.jsdelivr.net/npm/vega-lib?noext\",\n",
       "      \"vega-lite\": \"https://cdn.jsdelivr.net/npm/vega-lite@5.20.1?noext\",\n",
       "      \"vega-embed\": \"https://cdn.jsdelivr.net/npm/vega-embed@6?noext\",\n",
       "    };\n",
       "\n",
       "    function maybeLoadScript(lib, version) {\n",
       "      var key = `${lib.replace(\"-\", \"\")}_version`;\n",
       "      return (VEGA_DEBUG[key] == version) ?\n",
       "        Promise.resolve(paths[lib]) :\n",
       "        new Promise(function(resolve, reject) {\n",
       "          var s = document.createElement('script');\n",
       "          document.getElementsByTagName(\"head\")[0].appendChild(s);\n",
       "          s.async = true;\n",
       "          s.onload = () => {\n",
       "            VEGA_DEBUG[key] = version;\n",
       "            return resolve(paths[lib]);\n",
       "          };\n",
       "          s.onerror = () => reject(`Error loading script: ${paths[lib]}`);\n",
       "          s.src = paths[lib];\n",
       "        });\n",
       "    }\n",
       "\n",
       "    function showError(err) {\n",
       "      outputDiv.innerHTML = `<div class=\"error\" style=\"color:red;\">${err}</div>`;\n",
       "      throw err;\n",
       "    }\n",
       "\n",
       "    function displayChart(vegaEmbed) {\n",
       "      vegaEmbed(outputDiv, spec, embedOpt)\n",
       "        .catch(err => showError(`Javascript Error: ${err.message}<br>This usually means there's a typo in your chart specification. See the javascript console for the full traceback.`));\n",
       "    }\n",
       "\n",
       "    if(typeof define === \"function\" && define.amd) {\n",
       "      requirejs.config({paths});\n",
       "      let deps = [\"vega-embed\"];\n",
       "      require(deps, displayChart, err => showError(`Error loading script: ${err.message}`));\n",
       "    } else {\n",
       "      maybeLoadScript(\"vega\", \"5\")\n",
       "        .then(() => maybeLoadScript(\"vega-lite\", \"5.20.1\"))\n",
       "        .then(() => maybeLoadScript(\"vega-embed\", \"6\"))\n",
       "        .catch(showError)\n",
       "        .then(() => displayChart(vegaEmbed));\n",
       "    }\n",
       "  })({\"config\": {\"view\": {\"continuousWidth\": 300, \"continuousHeight\": 300}}, \"data\": {\"url\": \"https://cdn.jsdelivr.net/npm/vega-datasets@v1.29.0/data/us-10m.json\", \"format\": {\"feature\": \"counties\", \"type\": \"topojson\"}}, \"mark\": {\"type\": \"geoshape\", \"stroke\": \"white\"}, \"encoding\": {\"color\": {\"field\": \"Count\", \"scale\": {\"scheme\": \"blues\"}, \"type\": \"quantitative\"}, \"tooltip\": [{\"field\": \"County\", \"type\": \"nominal\"}, {\"field\": \"Count\", \"type\": \"quantitative\"}]}, \"height\": 400, \"projection\": {\"type\": \"mercator\"}, \"title\": \"Electric Vehicles by County in Washington\", \"transform\": [{\"filter\": \"floor(datum.id / 1000) == 53\"}, {\"lookup\": \"id\", \"from\": {\"data\": {\"name\": \"data-322436e5b55902f8e410a3e5b8892237\"}, \"key\": \"FIPS Code\", \"fields\": [\"County\", \"Count\"]}}], \"width\": 400, \"$schema\": \"https://vega.github.io/schema/vega-lite/v5.20.1.json\", \"datasets\": {\"data-322436e5b55902f8e410a3e5b8892237\": [{\"County\": \"King\", \"Count\": 128272, \"FIPS Code\": 53033}, {\"County\": \"Snohomish\", \"Count\": 31810, \"FIPS Code\": 53061}, {\"County\": \"Pierce\", \"Count\": 21314, \"FIPS Code\": 53053}, {\"County\": \"Clark\", \"Count\": 15644, \"FIPS Code\": 53011}, {\"County\": \"Thurston\", \"Count\": 9344, \"FIPS Code\": 53067}, {\"County\": \"Kitsap\", \"Count\": 8651, \"FIPS Code\": 53035}, {\"County\": \"Spokane\", \"Count\": 7247, \"FIPS Code\": 53063}, {\"County\": \"Whatcom\", \"Count\": 6297, \"FIPS Code\": 53073}, {\"County\": \"Benton\", \"Count\": 3468, \"FIPS Code\": 53005}, {\"County\": \"Skagit\", \"Count\": 3015, \"FIPS Code\": 53057}, {\"County\": \"Island\", \"Count\": 2831, \"FIPS Code\": 53029}, {\"County\": \"Yakima\", \"Count\": 1724, \"FIPS Code\": 53077}, {\"County\": \"Chelan\", \"Count\": 1601, \"FIPS Code\": 53007}, {\"County\": \"Clallam\", \"Count\": 1558, \"FIPS Code\": 53009}, {\"County\": \"Cowlitz\", \"Count\": 1343, \"FIPS Code\": 53015}, {\"County\": \"Jefferson\", \"Count\": 1334, \"FIPS Code\": 53031}, {\"County\": \"Mason\", \"Count\": 1266, \"FIPS Code\": 53045}, {\"County\": \"San Juan\", \"Count\": 1217, \"FIPS Code\": 53055}, {\"County\": \"Lewis\", \"Count\": 1136, \"FIPS Code\": 53041}, {\"County\": \"Franklin\", \"Count\": 1042, \"FIPS Code\": 53021}, {\"County\": \"Grays Harbor\", \"Count\": 972, \"FIPS Code\": 53027}, {\"County\": \"Grant\", \"Count\": 960, \"FIPS Code\": 53025}, {\"County\": \"Kittitas\", \"Count\": 936, \"FIPS Code\": 53037}, {\"County\": \"Walla Walla\", \"Count\": 700, \"FIPS Code\": 53071}, {\"County\": \"Douglas\", \"Count\": 572, \"FIPS Code\": 53017}, {\"County\": \"Whitman\", \"Count\": 525, \"FIPS Code\": 53075}, {\"County\": \"Klickitat\", \"Count\": 458, \"FIPS Code\": 53039}, {\"County\": \"Okanogan\", \"Count\": 391, \"FIPS Code\": 53047}, {\"County\": \"Stevens\", \"Count\": 321, \"FIPS Code\": 53065}, {\"County\": \"Pacific\", \"Count\": 316, \"FIPS Code\": 53049}, {\"County\": \"Skamania\", \"Count\": 249, \"FIPS Code\": 53059}, {\"County\": \"Asotin\", \"Count\": 99, \"FIPS Code\": 53003}, {\"County\": \"Adams\", \"Count\": 99, \"FIPS Code\": 53001}, {\"County\": \"Wahkiakum\", \"Count\": 89, \"FIPS Code\": 53069}, {\"County\": \"Pend Oreille\", \"Count\": 88, \"FIPS Code\": 53051}, {\"County\": \"Lincoln\", \"Count\": 79, \"FIPS Code\": 53043}, {\"County\": \"Ferry\", \"Count\": 44, \"FIPS Code\": 53019}, {\"County\": \"Columbia\", \"Count\": 22, \"FIPS Code\": 53013}, {\"County\": \"Garfield\", \"Count\": 4, \"FIPS Code\": 53023}]}}, {\"mode\": \"vega-lite\"});\n",
       "</script>"
      ],
      "text/plain": [
       "alt.Chart(...)"
      ]
     },
     "execution_count": 25,
     "metadata": {},
     "output_type": "execute_result"
    }
   ],
   "source": [
    "# Now we create a choropleth map with the number of EVs by county\n",
    "# Citation: I used ChatGPT to learn out to how to filter for WA state and create the choropleth map\n",
    "# The Altair documentation is also useful: https://altair-viz.github.io/altair-tutorial/notebooks/09-Geographic-plots.html\n",
    "\n",
    "alt.Chart(counties).mark_geoshape(\n",
    "    stroke=\"white\"\n",
    ").transform_filter(\n",
    "    \"floor(datum.id / 1000) == 53\"\n",
    ").transform_lookup(\n",
    "    lookup=\"id\",   \n",
    "    from_=alt.LookupData(county_summary, \"FIPS Code\", [\"County\", \"Count\"])\n",
    ").encode(\n",
    "    color=alt.Color(\"Count:Q\", scale=alt.Scale(scheme = sequential)),\n",
    "    tooltip=[\"County:N\", \"Count:Q\"]\n",
    ").project(\"mercator\").properties(\n",
    "    width=400,\n",
    "    height=400,\n",
    "    title=\"Electric Vehicles by County in Washington\"\n",
    ")"
   ]
  },
  {
   "cell_type": "markdown",
   "id": "c26bb4c4-ba92-413a-afc0-ae79974a0ee2",
   "metadata": {},
   "source": [
    "As you can see, the majority of EVs are located in King county, followed up by Snohomish and Pierce counties. This probably makes sense given that EV chargers tend to be located in more populated areas. "
   ]
  }
 ],
 "metadata": {
  "kernelspec": {
   "display_name": "Python 3 (ipykernel)",
   "language": "python",
   "name": "python3"
  },
  "language_info": {
   "codemirror_mode": {
    "name": "ipython",
    "version": 3
   },
   "file_extension": ".py",
   "mimetype": "text/x-python",
   "name": "python",
   "nbconvert_exporter": "python",
   "pygments_lexer": "ipython3",
   "version": "3.12.2"
  }
 },
 "nbformat": 4,
 "nbformat_minor": 5
}
